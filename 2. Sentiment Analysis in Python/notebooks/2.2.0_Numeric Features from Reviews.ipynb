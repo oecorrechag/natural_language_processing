{
 "cells": [
  {
   "attachments": {},
   "cell_type": "markdown",
   "metadata": {},
   "source": [
    "# 2.2.0 Numeric Features from Reviews"
   ]
  },
  {
   "cell_type": "code",
   "execution_count": 1,
   "metadata": {},
   "outputs": [],
   "source": [
    "%load_ext autoreload\n",
    "%autoreload 2"
   ]
  },
  {
   "cell_type": "code",
   "execution_count": 2,
   "metadata": {},
   "outputs": [],
   "source": [
    "import pandas as pd\n",
    "import numpy as np\n",
    "\n",
    "from sklearn.feature_extraction.text import CountVectorizer\n",
    "\n",
    "pd.set_option('display.max_columns', None)\n",
    "pd.set_option('display.max_rows', None)\n",
    "import warnings\n",
    "warnings.filterwarnings(\"ignore\")"
   ]
  },
  {
   "cell_type": "code",
   "execution_count": 3,
   "metadata": {},
   "outputs": [],
   "source": [
    "import sys\n",
    "sys.path.append(\"../\") \n",
    "\n",
    "from utils.info2 import annak\n",
    "from utils.paths import make_dir_line\n",
    "\n",
    "modality = 'c'\n",
    "project = 'sentiment_analysis_in_python'\n",
    "data = make_dir_line(modality, project)\n",
    "\n",
    "raw = data('raw')\n",
    "processed = data('processed')"
   ]
  },
  {
   "attachments": {},
   "cell_type": "markdown",
   "metadata": {},
   "source": [
    "## 2.2.2 Which statement about BOW is true?\n",
    "\n",
    "You were introduced to a bag-of-words(BOW) and some of its characteristics in the video. Which of the following statements about BOW is true?\n",
    "\n",
    "R:/ Bag-of-words is a simple but effective method to build a vocabulary of all the words occurring in a document.\n",
    "\n",
    "## 2.2.3 Your first BOW"
   ]
  },
  {
   "cell_type": "code",
   "execution_count": 4,
   "metadata": {},
   "outputs": [
    {
     "name": "stdout",
     "output_type": "stream",
     "text": [
      "[[1 1 1 0 1 0 1 0 0 0 0 0 0]\n",
      " [0 0 0 1 0 1 0 1 1 1 1 2 1]]\n"
     ]
    }
   ],
   "source": [
    "# Build the vectorizer and fit it\n",
    "anna_vect = CountVectorizer()\n",
    "anna_vect.fit(annak)\n",
    "\n",
    "# Create the bow representation\n",
    "anna_bow = anna_vect.transform(annak)\n",
    "\n",
    "# Print the bag-of-words result \n",
    "print(anna_bow.toarray())"
   ]
  },
  {
   "attachments": {},
   "cell_type": "markdown",
   "metadata": {},
   "source": [
    "## 2.2.4 BOW using product reviews"
   ]
  },
  {
   "cell_type": "code",
   "execution_count": 5,
   "metadata": {},
   "outputs": [
    {
     "data": {
      "text/html": [
       "<div>\n",
       "<style scoped>\n",
       "    .dataframe tbody tr th:only-of-type {\n",
       "        vertical-align: middle;\n",
       "    }\n",
       "\n",
       "    .dataframe tbody tr th {\n",
       "        vertical-align: top;\n",
       "    }\n",
       "\n",
       "    .dataframe thead th {\n",
       "        text-align: right;\n",
       "    }\n",
       "</style>\n",
       "<table border=\"1\" class=\"dataframe\">\n",
       "  <thead>\n",
       "    <tr style=\"text-align: right;\">\n",
       "      <th></th>\n",
       "      <th>score</th>\n",
       "      <th>review</th>\n",
       "    </tr>\n",
       "  </thead>\n",
       "  <tbody>\n",
       "    <tr>\n",
       "      <th>0</th>\n",
       "      <td>1</td>\n",
       "      <td>Stuning even for the non-gamer: This sound tr...</td>\n",
       "    </tr>\n",
       "    <tr>\n",
       "      <th>1</th>\n",
       "      <td>1</td>\n",
       "      <td>The best soundtrack ever to anything.: I'm re...</td>\n",
       "    </tr>\n",
       "    <tr>\n",
       "      <th>2</th>\n",
       "      <td>1</td>\n",
       "      <td>Amazing!: This soundtrack is my favorite musi...</td>\n",
       "    </tr>\n",
       "    <tr>\n",
       "      <th>3</th>\n",
       "      <td>1</td>\n",
       "      <td>Excellent Soundtrack: I truly like this sound...</td>\n",
       "    </tr>\n",
       "    <tr>\n",
       "      <th>4</th>\n",
       "      <td>1</td>\n",
       "      <td>Remember, Pull Your Jaw Off The Floor After H...</td>\n",
       "    </tr>\n",
       "  </tbody>\n",
       "</table>\n",
       "</div>"
      ],
      "text/plain": [
       "   score                                             review\n",
       "0      1   Stuning even for the non-gamer: This sound tr...\n",
       "1      1   The best soundtrack ever to anything.: I'm re...\n",
       "2      1   Amazing!: This soundtrack is my favorite musi...\n",
       "3      1   Excellent Soundtrack: I truly like this sound...\n",
       "4      1   Remember, Pull Your Jaw Off The Floor After H..."
      ]
     },
     "execution_count": 5,
     "metadata": {},
     "output_type": "execute_result"
    }
   ],
   "source": [
    "reviews = pd.read_csv(raw / \"amazon_reviews_sample.csv\", sep=',')\n",
    "reviews = reviews.loc[:,['score','review']]\n",
    "reviews.head()"
   ]
  },
  {
   "cell_type": "code",
   "execution_count": 6,
   "metadata": {},
   "outputs": [
    {
     "name": "stdout",
     "output_type": "stream",
     "text": [
      "   about  after  all  also  am  an  and  any  are  as  at  be  because  been   \n",
      "0      0      0    1     0   0   0    2    0    0   0   0   0        0     0  \\\n",
      "1      0      0    0     0   0   0    3    1    1   0   0   1        0     1   \n",
      "2      0      0    3     0   0   1    4    0    1   1   0   1        0     1   \n",
      "3      0      0    0     0   0   0    9    0    1   0   0   1        0     0   \n",
      "4      0      1    0     0   0   0    3    0    1   0   0   1        0     0   \n",
      "\n",
      "   best  better  book  books  but  buy  by  can  could  did  do  don  even   \n",
      "0     1       0     0      0    1    0   0    0      0    0   0    0     2  \\\n",
      "1     2       0     0      0    1    1   0    0      0    0   0    0     0   \n",
      "2     1       0     0      0    0    1   0    1      1    0   0    0     1   \n",
      "3     1       0     0      0    0    0   1    0      0    0   0    0     0   \n",
      "4     1       0     0      0    0    0   0    1      0    0   0    0     0   \n",
      "\n",
      "   first  for  from  get  good  great  had  has  have  he  her  his  how  if   \n",
      "0      0    1     1    0     0      0    0    1     2   0    0    0    0   0  \\\n",
      "1      0    2     0    0     0      0    0    0     0   0    0    0    0   1   \n",
      "2      0    1     0    0     0      0    0    0     1   0    0    0    0   2   \n",
      "3      0    0     0    0     0      0    0    0     1   0    0    0    0   0   \n",
      "4      0    0     0    0     1      0    0    0     0   0    0    1    1   2   \n",
      "\n",
      "   in  into  is  it  just  like  love  me  more  movie  much  my  no  not  of   \n",
      "0   1     0   0   5     0     0     0   0     0      0     0   0   0    0   2  \\\n",
      "1   1     0   5   1     0     0     0   0     0      0     1   1   0    0   1   \n",
      "2   1     0   2   3     0     1     0   1     1      0     0   2   0    0   6   \n",
      "3   0     0   1   1     0     2     0   0     0      0     0   2   0    0   8   \n",
      "4   0     0   2   4     1     0     0   1     0      0     0   0   0    0   1   \n",
      "\n",
      "   on  one  only  or  other  out  product  read  really  she  so  some  story   \n",
      "0   0    0     0   0      0    1        0     0       0    0   1     0      0  \\\n",
      "1   1    1     1   0      0    0        0     0       0    0   0     0      0   \n",
      "2   0    0     0   0      0    0        0     0       0    0   1     0      0   \n",
      "3   2    1     0   0      0    0        0     0       0    0   0     0      0   \n",
      "4   2    0     0   0      0    0        0     0       0    0   0     0      1   \n",
      "\n",
      "   than  that  the  their  them  then  there  these  they  think  this  time   \n",
      "0     0     0    5      0     0     0      0      0     0      0     1     0  \\\n",
      "1     0     3    5      0     0     0      0      0     0      0     5     0   \n",
      "2     0     0   11      0     0     0      0      0     0      0     3     3   \n",
      "3     0     1    4      0     0     0      0      0     0      0     3     1   \n",
      "4     0     1    9      0     0     0      0      0     0      0     1     1   \n",
      "\n",
      "   to  too  up  very  was  way  we  well  were  what  when  which  who  will   \n",
      "0   2    0   0     0    1    0   0     1     0     0     0      0    2     0  \\\n",
      "1   5    0   0     0    0    0   0     0     0     0     0      0    0     0   \n",
      "2   2    0   0     0    0    0   0     1     0     0     0      1    1     0   \n",
      "3   0    0   0     0    0    0   0     0     0     0     0      0    0     0   \n",
      "4   0    0   0     0    0    0   0     0     0     0     0      0    0     0   \n",
      "\n",
      "   with  work  would  you  your  \n",
      "0     1     0      2    0     1  \n",
      "1     0     0      1    1     0  \n",
      "2     0     1      1    2     0  \n",
      "3     0     0      0    0     0  \n",
      "4     0     0      0    3     1  \n"
     ]
    }
   ],
   "source": [
    "# Build the vectorizer, specify max features \n",
    "vect = CountVectorizer(max_features=100)\n",
    "# Fit the vectorizer\n",
    "vect.fit(reviews.review)\n",
    "\n",
    "# Transform the review column\n",
    "X_review = vect.transform(reviews.review)\n",
    "\n",
    "# Create the bow representation\n",
    "X_df = pd.DataFrame(X_review.toarray(), columns=vect.get_feature_names_out())\n",
    "print(X_df.head())"
   ]
  },
  {
   "attachments": {},
   "cell_type": "markdown",
   "metadata": {},
   "source": [
    "## 2.2.6 Specify token sequence length with BOW"
   ]
  },
  {
   "cell_type": "code",
   "execution_count": 7,
   "metadata": {},
   "outputs": [
    {
     "ename": "MemoryError",
     "evalue": "Unable to allocate 24.3 GiB for an array with shape (10000, 326726) and data type int64",
     "output_type": "error",
     "traceback": [
      "\u001b[0;31m---------------------------------------------------------------------------\u001b[0m",
      "\u001b[0;31mMemoryError\u001b[0m                               Traceback (most recent call last)",
      "Cell \u001b[0;32mIn[7], line 9\u001b[0m\n\u001b[1;32m      6\u001b[0m X_review \u001b[39m=\u001b[39m vect\u001b[39m.\u001b[39mtransform(reviews\u001b[39m.\u001b[39mreview)\n\u001b[1;32m      8\u001b[0m \u001b[39m# Create the bow representation\u001b[39;00m\n\u001b[0;32m----> 9\u001b[0m X_df \u001b[39m=\u001b[39m pd\u001b[39m.\u001b[39mDataFrame(X_review\u001b[39m.\u001b[39;49mtoarray(), columns\u001b[39m=\u001b[39mvect\u001b[39m.\u001b[39mget_feature_names_out())\n\u001b[1;32m     10\u001b[0m \u001b[39mprint\u001b[39m(X_df\u001b[39m.\u001b[39mhead())\n",
      "File \u001b[0;32m~/.local/lib/python3.11/site-packages/scipy/sparse/_compressed.py:1051\u001b[0m, in \u001b[0;36m_cs_matrix.toarray\u001b[0;34m(self, order, out)\u001b[0m\n\u001b[1;32m   1049\u001b[0m \u001b[39mif\u001b[39;00m out \u001b[39mis\u001b[39;00m \u001b[39mNone\u001b[39;00m \u001b[39mand\u001b[39;00m order \u001b[39mis\u001b[39;00m \u001b[39mNone\u001b[39;00m:\n\u001b[1;32m   1050\u001b[0m     order \u001b[39m=\u001b[39m \u001b[39mself\u001b[39m\u001b[39m.\u001b[39m_swap(\u001b[39m'\u001b[39m\u001b[39mcf\u001b[39m\u001b[39m'\u001b[39m)[\u001b[39m0\u001b[39m]\n\u001b[0;32m-> 1051\u001b[0m out \u001b[39m=\u001b[39m \u001b[39mself\u001b[39;49m\u001b[39m.\u001b[39;49m_process_toarray_args(order, out)\n\u001b[1;32m   1052\u001b[0m \u001b[39mif\u001b[39;00m \u001b[39mnot\u001b[39;00m (out\u001b[39m.\u001b[39mflags\u001b[39m.\u001b[39mc_contiguous \u001b[39mor\u001b[39;00m out\u001b[39m.\u001b[39mflags\u001b[39m.\u001b[39mf_contiguous):\n\u001b[1;32m   1053\u001b[0m     \u001b[39mraise\u001b[39;00m \u001b[39mValueError\u001b[39;00m(\u001b[39m'\u001b[39m\u001b[39mOutput array must be C or F contiguous\u001b[39m\u001b[39m'\u001b[39m)\n",
      "File \u001b[0;32m~/.local/lib/python3.11/site-packages/scipy/sparse/_base.py:1298\u001b[0m, in \u001b[0;36mspmatrix._process_toarray_args\u001b[0;34m(self, order, out)\u001b[0m\n\u001b[1;32m   1296\u001b[0m     \u001b[39mreturn\u001b[39;00m out\n\u001b[1;32m   1297\u001b[0m \u001b[39melse\u001b[39;00m:\n\u001b[0;32m-> 1298\u001b[0m     \u001b[39mreturn\u001b[39;00m np\u001b[39m.\u001b[39;49mzeros(\u001b[39mself\u001b[39;49m\u001b[39m.\u001b[39;49mshape, dtype\u001b[39m=\u001b[39;49m\u001b[39mself\u001b[39;49m\u001b[39m.\u001b[39;49mdtype, order\u001b[39m=\u001b[39;49morder)\n",
      "\u001b[0;31mMemoryError\u001b[0m: Unable to allocate 24.3 GiB for an array with shape (10000, 326726) and data type int64"
     ]
    }
   ],
   "source": [
    "# # Build the vectorizer, specify token sequence and fit\n",
    "# vect = CountVectorizer(ngram_range=(1, 2))\n",
    "# vect.fit(reviews.review)\n",
    "\n",
    "# # Transform the review column\n",
    "# X_review = vect.transform(reviews.review)\n",
    "\n",
    "# # Create the bow representation\n",
    "# X_df = pd.DataFrame(X_review.toarray(), columns=vect.get_feature_names_out())\n",
    "# print(X_df.head())"
   ]
  },
  {
   "attachments": {},
   "cell_type": "markdown",
   "metadata": {},
   "source": [
    "MemoryError!!!\n",
    "\n",
    "## 2.2.7 Size of vocabulary of movies reviews"
   ]
  },
  {
   "cell_type": "code",
   "execution_count": 11,
   "metadata": {},
   "outputs": [
    {
     "data": {
      "text/html": [
       "<div>\n",
       "<style scoped>\n",
       "    .dataframe tbody tr th:only-of-type {\n",
       "        vertical-align: middle;\n",
       "    }\n",
       "\n",
       "    .dataframe tbody tr th {\n",
       "        vertical-align: top;\n",
       "    }\n",
       "\n",
       "    .dataframe thead th {\n",
       "        text-align: right;\n",
       "    }\n",
       "</style>\n",
       "<table border=\"1\" class=\"dataframe\">\n",
       "  <thead>\n",
       "    <tr style=\"text-align: right;\">\n",
       "      <th></th>\n",
       "      <th>review</th>\n",
       "      <th>label</th>\n",
       "    </tr>\n",
       "  </thead>\n",
       "  <tbody>\n",
       "    <tr>\n",
       "      <th>0</th>\n",
       "      <td>This short spoof can be found on Elite's Mille...</td>\n",
       "      <td>0</td>\n",
       "    </tr>\n",
       "    <tr>\n",
       "      <th>1</th>\n",
       "      <td>A singularly unfunny musical comedy that artif...</td>\n",
       "      <td>0</td>\n",
       "    </tr>\n",
       "    <tr>\n",
       "      <th>2</th>\n",
       "      <td>An excellent series, masterfully acted and dir...</td>\n",
       "      <td>1</td>\n",
       "    </tr>\n",
       "    <tr>\n",
       "      <th>3</th>\n",
       "      <td>The master of movie spectacle Cecil B. De Mill...</td>\n",
       "      <td>1</td>\n",
       "    </tr>\n",
       "    <tr>\n",
       "      <th>4</th>\n",
       "      <td>I was gifted with this movie as it had such a ...</td>\n",
       "      <td>0</td>\n",
       "    </tr>\n",
       "  </tbody>\n",
       "</table>\n",
       "</div>"
      ],
      "text/plain": [
       "                                              review  label\n",
       "0  This short spoof can be found on Elite's Mille...      0\n",
       "1  A singularly unfunny musical comedy that artif...      0\n",
       "2  An excellent series, masterfully acted and dir...      1\n",
       "3  The master of movie spectacle Cecil B. De Mill...      1\n",
       "4  I was gifted with this movie as it had such a ...      0"
      ]
     },
     "execution_count": 11,
     "metadata": {},
     "output_type": "execute_result"
    }
   ],
   "source": [
    "movies = pd.read_csv(raw / \"movies.csv\", sep=',')\n",
    "movies.head()\n"
   ]
  },
  {
   "cell_type": "code",
   "execution_count": 16,
   "metadata": {},
   "outputs": [
    {
     "name": "stdout",
     "output_type": "stream",
     "text": [
      "   about  after  all  am  an  and  another  are  as  at  bad  be  been  best   \n",
      "0      0      0    0   0   0    0        0    0   0   0    0   1     0     0  \\\n",
      "1      0      0    0   0   0    0        0    0   0   0    0   0     0     0   \n",
      "2      0      0    0   0   1    1        0    0   0   0    0   0     0     0   \n",
      "3      0      0    0   0   0    0        0    0   0   0    0   0     0     0   \n",
      "4      0      0    0   0   0    0        0    0   1   0    0   0     0     0   \n",
      "\n",
      "   br  but  by  can  do  don  ever  fan  film  films  first  for  from  good   \n",
      "0   0    0   0    1   0    0     0    0     0      0      0    0     0     0  \\\n",
      "1   0    0   0    0   0    0     0    0     0      0      0    0     0     0   \n",
      "2   0    0   0    0   0    0     0    0     0      0      0    0     0     0   \n",
      "3   0    0   0    0   0    0     0    0     0      0      0    0     0     0   \n",
      "4   0    0   0    0   0    0     0    0     0      0      0    0     0     0   \n",
      "\n",
      "   great  had  has  have  having  horror  how  if  in  interesting  is  it   \n",
      "0      0    0    0     0       0       0    0   0   0            0   0   0  \\\n",
      "1      0    0    0     0       0       0    0   0   0            0   0   0   \n",
      "2      0    0    0     0       0       0    0   0   0            0   0   0   \n",
      "3      0    0    0     0       0       0    0   0   0            0   0   0   \n",
      "4      0    1    0     0       0       0    0   0   0            0   0   1   \n",
      "\n",
      "   just  know  like  lot  love  made  many  me  most  movie  movies  my  new   \n",
      "0     0     0     0    0     0     0     0   0     0      0       0   0    0  \\\n",
      "1     0     0     0    0     0     0     0   0     0      0       0   0    0   \n",
      "2     0     0     0    0     0     0     0   0     0      0       0   0    0   \n",
      "3     0     0     0    0     0     0     0   0     0      1       0   0    0   \n",
      "4     0     0     0    0     0     0     0   0     0      1       0   0    0   \n",
      "\n",
      "   no  not  of  on  one  only  or  out  really  saw  say  see  seen  show  so   \n",
      "0   0    0   0   1    0     0   0    0       0    0    0    0     0     0   0  \\\n",
      "1   0    0   0   0    0     0   0    0       0    0    0    0     0     0   0   \n",
      "2   0    0   0   0    0     0   0    0       0    0    0    0     0     0   0   \n",
      "3   0    0   1   0    0     0   0    0       0    0    0    0     0     0   0   \n",
      "4   0    0   0   0    0     0   0    0       0    0    0    0     0     0   0   \n",
      "\n",
      "   some  story  such  th  that  the  there  this  those  thought  time  to   \n",
      "0     0      0     0   0     0    0      0     1      0        0     0   0  \\\n",
      "1     0      0     0   0     1    0      0     0      0        0     0   0   \n",
      "2     0      0     0   0     0    0      0     0      0        0     0   0   \n",
      "3     0      0     0   0     0    1      0     0      0        0     0   0   \n",
      "4     0      0     1   0     0    0      0     1      0        0     0   0   \n",
      "\n",
      "   tv  two  up  ve  very  was  watch  watched  watching  we  well  what  when   \n",
      "0   0    0   0   0     0    0      0        0         0   0     0     0     0  \\\n",
      "1   0    0   0   0     0    0      0        0         0   0     0     0     0   \n",
      "2   0    0   0   0     0    0      0        0         0   0     0     0     0   \n",
      "3   0    0   0   0     0    0      0        0         0   0     0     0     0   \n",
      "4   0    0   0   0     0    1      0        0         0   0     0     0     0   \n",
      "\n",
      "   who  why  with  worst  would  years  you  \n",
      "0    0    0     0      0      0      0    0  \n",
      "1    0    0     0      0      0      0    0  \n",
      "2    0    0     0      0      0      0    0  \n",
      "3    0    0     0      0      0      0    0  \n",
      "4    0    0     1      0      0      0    0  \n"
     ]
    }
   ],
   "source": [
    "# Build the vectorizer, specify size of vocabulary and fit\n",
    "vect = CountVectorizer(max_features=100)\n",
    "vect.fit(movies.review)\n",
    "\n",
    "# Transform the review column\n",
    "X_review = vect.transform(movies.review)\n",
    "# Create the bow representation\n",
    "X_df = pd.DataFrame(X_review.toarray(), columns=vect.get_feature_names_out())\n",
    "print(X_df.head())"
   ]
  },
  {
   "cell_type": "code",
   "execution_count": 18,
   "metadata": {},
   "outputs": [
    {
     "name": "stdout",
     "output_type": "stream",
     "text": [
      "   about  absolutely  after  all  am  an  and  another  are  as  at  awful   \n",
      "0      0           0      0    0   0   0    0        0    0   0   0      0  \\\n",
      "1      0           0      0    0   0   0    0        0    0   0   0      0   \n",
      "2      0           0      0    0   0   1    1        0    0   0   0      0   \n",
      "3      0           0      0    0   0   0    0        0    0   0   0      0   \n",
      "4      0           0      0    0   0   0    0        0    0   1   0      0   \n",
      "\n",
      "   back  bad  based  be  because  been  before  believe  best  better  bit   \n",
      "0     0    0      0   1        0     0       0        0     0       0    0  \\\n",
      "1     0    0      0   0        0     0       0        0     0       0    0   \n",
      "2     0    0      0   0        0     0       0        0     0       0    0   \n",
      "3     0    0      0   0        0     0       0        0     0       0    0   \n",
      "4     0    0      0   0        0     0       0        0     0       0    0   \n",
      "\n",
      "   br  but  by  call  came  can  cast  comedy  could  crap  didn  do  does   \n",
      "0   0    0   0     0     0    1     0       0      0     0     0   0     0  \\\n",
      "1   0    0   0     0     0    0     0       1      0     0     0   0     0   \n",
      "2   0    0   0     0     0    0     0       0      0     0     0   0     0   \n",
      "3   0    0   0     0     0    0     0       0      0     0     0   0     0   \n",
      "4   0    0   0     0     0    0     0       0      0     0     0   0     0   \n",
      "\n",
      "   don  drama  even  ever  everyone  excellent  fan  favorite  feel  few  fi   \n",
      "0    0      0     0     0         0          0    0         0     0    0   0  \\\n",
      "1    0      0     0     0         0          0    0         0     0    0   0   \n",
      "2    0      0     0     0         0          1    0         0     0    0   0   \n",
      "3    0      0     0     0         0          0    0         0     0    0   0   \n",
      "4    0      0     0     0         0          0    0         0     0    0   0   \n",
      "\n",
      "   film  films  find  first  for  found  from  fun  funny  get  go  good   \n",
      "0     0      0     0      0    0      1     0    0      0    0   0     0  \\\n",
      "1     0      0     0      0    0      0     0    0      0    0   0     0   \n",
      "2     0      0     0      0    0      0     0    0      0    0   0     0   \n",
      "3     0      0     0      0    0      0     0    0      0    0   0     0   \n",
      "4     0      0     0      0    0      0     0    0      0    0   0     0   \n",
      "\n",
      "   great  guy  had  has  have  having  here  high  his  horror  how  huge  if   \n",
      "0      0    0    0    0     0       0     0     0    0       0    0     0   0  \\\n",
      "1      0    0    0    0     0       0     0     0    0       0    0     0   0   \n",
      "2      0    0    0    0     0       0     0     0    0       0    0     0   0   \n",
      "3      0    0    0    0     0       0     0     0    0       0    0     0   0   \n",
      "4      0    0    1    0     0       0     0     0    0       0    0     0   0   \n",
      "\n",
      "   in  interesting  is  it  its  just  know  last  let  life  like  liked   \n",
      "0   0            0   0   0    0     0     0     0    0     0     0      0  \\\n",
      "1   0            0   0   0    0     0     0     0    0     0     0      0   \n",
      "2   0            0   0   0    0     0     0     0    0     0     0      0   \n",
      "3   0            0   0   0    0     0     0     0    0     0     0      0   \n",
      "4   0            0   0   1    0     0     0     0    0     0     0      0   \n",
      "\n",
      "   little  long  looking  lot  love  low  made  make  man  many  may  me   \n",
      "0       0     0        0    0     0    0     0     0    0     0    0   0  \\\n",
      "1       0     0        0    0     0    0     0     0    0     0    0   0   \n",
      "2       0     0        0    0     0    0     0     0    0     0    0   0   \n",
      "3       0     0        0    0     0    0     0     0    0     0    0   0   \n",
      "4       0     0        0    0     0    0     0     0    0     0    0   0   \n",
      "\n",
      "   might  more  most  movie  movies  much  musical  must  my  never  new   \n",
      "0      0     0     0      0       0     0        0     0   0      0    0  \\\n",
      "1      0     0     0      0       0     0        1     0   0      0    0   \n",
      "2      0     0     0      0       0     0        0     0   0      0    0   \n",
      "3      0     0     0      1       0     0        0     0   0      0    0   \n",
      "4      0     0     0      1       0     0        0     0   0      0    0   \n",
      "\n",
      "   night  no  not  now  of  off  on  one  only  or  original  other  out   \n",
      "0      0   0    0    0   0    0   1    0     0   0         0      0    0  \\\n",
      "1      0   0    0    0   0    0   0    0     0   0         0      0    0   \n",
      "2      0   0    0    0   0    0   0    0     0   0         0      0    0   \n",
      "3      0   0    0    0   1    0   0    0     0   0         0      0    0   \n",
      "4      0   0    0    0   0    0   0    0     0   0         0      0    0   \n",
      "\n",
      "   over  people  plot  pretty  quite  re  read  real  really  reason   \n",
      "0     0       0     0       0      0   0     0     0       0       0  \\\n",
      "1     0       0     0       0      0   0     0     0       0       0   \n",
      "2     0       0     0       0      0   0     0     0       0       0   \n",
      "3     0       0     0       0      0   0     0     0       0       0   \n",
      "4     0       0     0       0      0   0     0     0       0       0   \n",
      "\n",
      "   recently  remember  review  reviews  saw  say  se  see  seeing  seen   \n",
      "0         0         0       0        0    0    0   0    0       0     0  \\\n",
      "1         0         0       0        0    0    0   0    0       0     0   \n",
      "2         0         0       0        0    0    0   0    0       0     0   \n",
      "3         0         0       0        0    0    0   0    0       0     0   \n",
      "4         0         0       0        0    0    0   0    0       0     0   \n",
      "\n",
      "   series  several  should  show  simply  so  some  star  still  story  such   \n",
      "0       0        0       0     0       0   0     0     0      0      0     0  \\\n",
      "1       0        0       0     0       0   0     0     0      0      0     0   \n",
      "2       1        0       0     0       0   0     0     0      0      0     0   \n",
      "3       0        0       0     0       0   0     0     0      0      0     0   \n",
      "4       0        0       0     0       0   0     0     0      0      0     1   \n",
      "\n",
      "   sure  th  that  the  there  they  thi  thing  think  this  those  thought   \n",
      "0     0   0     0    0      0     0    0      0      0     1      0        0  \\\n",
      "1     0   0     1    0      0     0    0      0      0     0      0        0   \n",
      "2     0   0     0    0      0     0    0      0      0     0      0        0   \n",
      "3     0   0     0    1      0     0    0      0      0     0      0        0   \n",
      "4     0   0     0    0      0     0    0      0      0     1      0        0   \n",
      "\n",
      "   time  times  to  tv  two  understand  up  ve  very  wa  want  was  watch   \n",
      "0     0      0   0   0    0           0   0   0     0   0     0    0      0  \\\n",
      "1     0      0   0   0    0           0   0   0     0   0     0    0      0   \n",
      "2     0      0   0   0    0           0   0   0     0   0     0    0      0   \n",
      "3     0      0   0   0    0           0   0   0     0   0     0    0      0   \n",
      "4     0      0   0   0    0           0   0   0     0   0     0    1      0   \n",
      "\n",
      "   watched  watching  way  we  well  were  what  when  where  which  while   \n",
      "0        0         0    0   0     0     0     0     0      0      0      0  \\\n",
      "1        0         0    0   0     0     0     0     0      0      0      0   \n",
      "2        0         0    0   0     0     0     0     0      0      0      0   \n",
      "3        0         0    0   0     0     0     0     0      0      0      0   \n",
      "4        0         0    0   0     0     0     0     0      0      0      0   \n",
      "\n",
      "   who  whole  why  wi  with  worst  would  years  yes  yet  you  young  your  \n",
      "0    0      0    0   0     0      0      0      0    0    0    0      0     0  \n",
      "1    0      0    0   0     0      0      0      0    0    0    0      0     0  \n",
      "2    0      0    0   0     0      0      0      0    0    0    0      0     0  \n",
      "3    0      0    0   0     0      0      0      0    0    0    0      0     0  \n",
      "4    0      0    0   0     1      0      0      0    0    0    0      0     0  \n"
     ]
    }
   ],
   "source": [
    "# Build and fit the vectorizer\n",
    "vect = CountVectorizer(max_df=200)\n",
    "vect.fit(movies.review)\n",
    "\n",
    "# Transform the review column\n",
    "X_review = vect.transform(movies.review)\n",
    "# Create the bow representation\n",
    "X_df = pd.DataFrame(X_review.toarray(), columns=vect.get_feature_names_out())\n",
    "print(X_df.head())"
   ]
  },
  {
   "cell_type": "code",
   "execution_count": 20,
   "metadata": {},
   "outputs": [
    {
     "name": "stdout",
     "output_type": "stream",
     "text": [
      "   and  film  for  have  in  is  it  movie  of  on  one  that  the  this  to   \n",
      "0    0     0    0     0   0   0   0      0   0   1    0     0    0     1   0  \\\n",
      "1    0     0    0     0   0   0   0      0   0   0    0     1    0     0   0   \n",
      "2    1     0    0     0   0   0   0      0   0   0    0     0    0     0   0   \n",
      "3    0     0    0     0   0   0   0      1   1   0    0     0    1     0   0   \n",
      "4    0     0    0     0   0   0   1      1   0   0    0     0    0     1   0   \n",
      "\n",
      "   was  \n",
      "0    0  \n",
      "1    0  \n",
      "2    0  \n",
      "3    0  \n",
      "4    1  \n"
     ]
    }
   ],
   "source": [
    "# Build and fit the vectorizer\n",
    "vect = CountVectorizer(min_df=50)\n",
    "vect.fit(movies.review)\n",
    "\n",
    "# Transform the review column\n",
    "X_review = vect.transform(movies.review)\n",
    "# Create the bow representation\n",
    "X_df = pd.DataFrame(X_review.toarray(), columns=vect.get_feature_names_out())\n",
    "print(X_df.head())"
   ]
  },
  {
   "attachments": {},
   "cell_type": "markdown",
   "metadata": {},
   "source": [
    "## 2.2.8 BOW with n-grams and vocabulary size"
   ]
  },
  {
   "cell_type": "code",
   "execution_count": null,
   "metadata": {},
   "outputs": [],
   "source": []
  },
  {
   "cell_type": "code",
   "execution_count": null,
   "metadata": {},
   "outputs": [],
   "source": []
  },
  {
   "cell_type": "code",
   "execution_count": null,
   "metadata": {},
   "outputs": [],
   "source": []
  },
  {
   "cell_type": "code",
   "execution_count": null,
   "metadata": {},
   "outputs": [],
   "source": []
  },
  {
   "cell_type": "code",
   "execution_count": null,
   "metadata": {},
   "outputs": [],
   "source": []
  },
  {
   "cell_type": "code",
   "execution_count": null,
   "metadata": {},
   "outputs": [
    {
     "name": "stdout",
     "output_type": "stream",
     "text": [
      "ok_\n"
     ]
    }
   ],
   "source": [
    "print('ok_')"
   ]
  }
 ],
 "metadata": {
  "kernelspec": {
   "display_name": "Python 3",
   "language": "python",
   "name": "python3"
  },
  "language_info": {
   "codemirror_mode": {
    "name": "ipython",
    "version": 3
   },
   "file_extension": ".py",
   "mimetype": "text/x-python",
   "name": "python",
   "nbconvert_exporter": "python",
   "pygments_lexer": "ipython3",
   "version": "3.11.3"
  },
  "orig_nbformat": 4
 },
 "nbformat": 4,
 "nbformat_minor": 2
}
