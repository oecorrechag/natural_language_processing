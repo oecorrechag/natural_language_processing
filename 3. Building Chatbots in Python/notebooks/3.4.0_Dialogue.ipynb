{
 "cells": [
  {
   "attachments": {},
   "cell_type": "markdown",
   "metadata": {},
   "source": [
    "# 3.4.0_Dialogue"
   ]
  },
  {
   "cell_type": "code",
   "execution_count": 1,
   "metadata": {},
   "outputs": [],
   "source": [
    "%load_ext autoreload\n",
    "%autoreload 2"
   ]
  },
  {
   "cell_type": "code",
   "execution_count": 2,
   "metadata": {},
   "outputs": [],
   "source": [
    "import pandas as pd\n",
    "import numpy as np\n",
    "\n",
    "import sqlite3\n",
    "\n",
    "pd.set_option('display.max_columns', None)\n",
    "pd.set_option('display.max_rows', None)\n",
    "import warnings\n",
    "warnings.filterwarnings(\"ignore\")"
   ]
  },
  {
   "cell_type": "code",
   "execution_count": 3,
   "metadata": {},
   "outputs": [],
   "source": [
    "import sys\n",
    "sys.path.append(\"../\") \n",
    "\n",
    "from utils.paths import make_dir_line\n",
    "\n",
    "modality = 'c'\n",
    "project = 'Building Chatbots in Python'\n",
    "data = make_dir_line(modality, project)\n",
    "\n",
    "raw = data('raw')"
   ]
  },
  {
   "attachments": {},
   "cell_type": "markdown",
   "metadata": {},
   "source": [
    "## 3.4.2 Form filling"
   ]
  },
  {
   "cell_type": "code",
   "execution_count": 8,
   "metadata": {},
   "outputs": [
    {
     "name": "stdout",
     "output_type": "stream",
     "text": [
      "USER: I'd like to become a professional dancer\n",
      "BOT: I'm sorry - I'm not sure how to help you\n",
      "USER: well then I'd like to order some coffee\n",
      "BOT: I'm sorry - I'm not sure how to help you\n",
      "USER: my favourite animal is a zebra\n",
      "BOT: I'm sorry - I'm not sure how to help you\n",
      "USER: kenyan\n",
      "BOT: I'm sorry - I'm not sure how to help you\n"
     ]
    }
   ],
   "source": [
    "# # Define the INIT state\n",
    "# INIT = 0\n",
    "\n",
    "# # Define the CHOOSE_COFFEE state\n",
    "# CHOOSE_COFFEE = 1\n",
    "\n",
    "# # Define the ORDERED state\n",
    "# ORDERED = 2\n",
    "\n",
    "# # Define the policy rules\n",
    "# policy = {\n",
    "#     (INIT, \"order\"): (CHOOSE_COFFEE, \"ok, Colombian or Kenyan?\"),\n",
    "#     (INIT, \"none\"): (INIT, \"I'm sorry - I'm not sure how to help you\"),\n",
    "#     (CHOOSE_COFFEE, \"specify_coffee\"): (ORDERED, \"perfect, the beans are on their way!\"),\n",
    "#     (CHOOSE_COFFEE, \"none\"): (CHOOSE_COFFEE, \"I'm sorry - would you like Colombian or Kenyan?\"),\n",
    "# }\n",
    "\n",
    "# # Create the list of messages\n",
    "# messages = [\n",
    "#     \"I'd like to become a professional dancer\",\n",
    "#     \"well then I'd like to order some coffee\",\n",
    "#     \"my favourite animal is a zebra\",\n",
    "#     \"kenyan\"\n",
    "# ]\n",
    "\n",
    "# # Call send_message() for each message\n",
    "# state = INIT\n",
    "# for message in messages:    \n",
    "#     state = send_message(policy, state, message)"
   ]
  },
  {
   "cell_type": "code",
   "execution_count": null,
   "metadata": {},
   "outputs": [],
   "source": []
  },
  {
   "cell_type": "code",
   "execution_count": null,
   "metadata": {},
   "outputs": [],
   "source": []
  },
  {
   "cell_type": "code",
   "execution_count": null,
   "metadata": {},
   "outputs": [],
   "source": []
  },
  {
   "cell_type": "code",
   "execution_count": null,
   "metadata": {},
   "outputs": [],
   "source": []
  },
  {
   "cell_type": "code",
   "execution_count": 4,
   "metadata": {},
   "outputs": [],
   "source": [
    "conn = sqlite3.connect(raw / 'hotels.db')\n",
    "c = conn.cursor()"
   ]
  },
  {
   "cell_type": "code",
   "execution_count": 5,
   "metadata": {},
   "outputs": [
    {
     "data": {
      "text/html": [
       "<div>\n",
       "<style scoped>\n",
       "    .dataframe tbody tr th:only-of-type {\n",
       "        vertical-align: middle;\n",
       "    }\n",
       "\n",
       "    .dataframe tbody tr th {\n",
       "        vertical-align: top;\n",
       "    }\n",
       "\n",
       "    .dataframe thead th {\n",
       "        text-align: right;\n",
       "    }\n",
       "</style>\n",
       "<table border=\"1\" class=\"dataframe\">\n",
       "  <thead>\n",
       "    <tr style=\"text-align: right;\">\n",
       "      <th></th>\n",
       "      <th>name</th>\n",
       "      <th>price</th>\n",
       "      <th>area</th>\n",
       "      <th>stars</th>\n",
       "    </tr>\n",
       "  </thead>\n",
       "  <tbody>\n",
       "    <tr>\n",
       "      <th>0</th>\n",
       "      <td>Hotel for Dogs</td>\n",
       "      <td>mid</td>\n",
       "      <td>east</td>\n",
       "      <td>3</td>\n",
       "    </tr>\n",
       "    <tr>\n",
       "      <th>1</th>\n",
       "      <td>Hotel California</td>\n",
       "      <td>mid</td>\n",
       "      <td>north</td>\n",
       "      <td>3</td>\n",
       "    </tr>\n",
       "    <tr>\n",
       "      <th>2</th>\n",
       "      <td>Grand Hotel</td>\n",
       "      <td>hi</td>\n",
       "      <td>south</td>\n",
       "      <td>5</td>\n",
       "    </tr>\n",
       "    <tr>\n",
       "      <th>3</th>\n",
       "      <td>Cozy Cottage</td>\n",
       "      <td>lo</td>\n",
       "      <td>south</td>\n",
       "      <td>2</td>\n",
       "    </tr>\n",
       "    <tr>\n",
       "      <th>4</th>\n",
       "      <td>Ben's BnB</td>\n",
       "      <td>hi</td>\n",
       "      <td>north</td>\n",
       "      <td>4</td>\n",
       "    </tr>\n",
       "    <tr>\n",
       "      <th>5</th>\n",
       "      <td>The Grand</td>\n",
       "      <td>hi</td>\n",
       "      <td>west</td>\n",
       "      <td>5</td>\n",
       "    </tr>\n",
       "    <tr>\n",
       "      <th>6</th>\n",
       "      <td>Central Rooms</td>\n",
       "      <td>mid</td>\n",
       "      <td>center</td>\n",
       "      <td>3</td>\n",
       "    </tr>\n",
       "  </tbody>\n",
       "</table>\n",
       "</div>"
      ],
      "text/plain": [
       "               name price    area  stars\n",
       "0    Hotel for Dogs   mid    east      3\n",
       "1  Hotel California   mid   north      3\n",
       "2       Grand Hotel    hi   south      5\n",
       "3      Cozy Cottage    lo   south      2\n",
       "4         Ben's BnB    hi   north      4\n",
       "5         The Grand    hi    west      5\n",
       "6     Central Rooms   mid  center      3"
      ]
     },
     "execution_count": 5,
     "metadata": {},
     "output_type": "execute_result"
    }
   ],
   "source": [
    "df = pd.read_sql_query('SELECT * FROM hotels', conn)\n",
    "df"
   ]
  },
  {
   "cell_type": "code",
   "execution_count": 6,
   "metadata": {},
   "outputs": [
    {
     "data": {
      "text/plain": [
       "[('Hotel California', 'mid', 'north', 3)]"
      ]
     },
     "execution_count": 6,
     "metadata": {},
     "output_type": "execute_result"
    }
   ],
   "source": [
    "c.execute(\"SELECT * FROM hotels WHERE price = 'mid' AND area = 'north'\").fetchall()"
   ]
  },
  {
   "cell_type": "code",
   "execution_count": 7,
   "metadata": {},
   "outputs": [],
   "source": [
    "c.close()"
   ]
  },
  {
   "attachments": {},
   "cell_type": "markdown",
   "metadata": {},
   "source": [
    "## 3.3.3 SQL statements in Python"
   ]
  },
  {
   "cell_type": "code",
   "execution_count": 8,
   "metadata": {},
   "outputs": [
    {
     "data": {
      "text/plain": [
       "[('Grand Hotel', 'hi', 'south', 5)]"
      ]
     },
     "execution_count": 8,
     "metadata": {},
     "output_type": "execute_result"
    }
   ],
   "source": [
    "# Open connection to DB\n",
    "conn = sqlite3.connect(raw / 'hotels.db')\n",
    "\n",
    "# Create a cursor\n",
    "c = conn.cursor()\n",
    "\n",
    "# Define area and price\n",
    "area, price = \"south\", \"hi\"\n",
    "t = (area, price)\n",
    "\n",
    "# Execute the query\n",
    "c.execute('SELECT * FROM hotels WHERE area=? AND price=?', t).fetchall()"
   ]
  },
  {
   "cell_type": "code",
   "execution_count": 9,
   "metadata": {},
   "outputs": [],
   "source": [
    "c.close()"
   ]
  },
  {
   "attachments": {},
   "cell_type": "markdown",
   "metadata": {},
   "source": [
    "## 3.3.5 Creating queries from parameters"
   ]
  },
  {
   "cell_type": "code",
   "execution_count": 10,
   "metadata": {},
   "outputs": [],
   "source": [
    "# Define find_hotels()\n",
    "def find_hotels(params):\n",
    "    # Create the base query\n",
    "    query = 'SELECT * FROM hotels'\n",
    "    # Add filter clauses for each of the parameters\n",
    "    if len(params) > 0:\n",
    "        filters = [\"{}=?\".format(k) for k in params]\n",
    "        query += \" WHERE \" + \" and \".join(filters)\n",
    "    # Create the tuple of values\n",
    "    t = tuple(params.values())\n",
    "    \n",
    "    # Open connection to DB\n",
    "    conn = sqlite3.connect(raw / 'hotels.db')\n",
    "    # Create a cursor\n",
    "    c = conn.cursor()\n",
    "    # Execute the query\n",
    "    c.execute(query, t)\n",
    "    # Return the results\n",
    "    return c.fetchall()"
   ]
  },
  {
   "attachments": {},
   "cell_type": "markdown",
   "metadata": {},
   "source": [
    "## 3.3.6 Using your custom function to find hotels"
   ]
  },
  {
   "cell_type": "code",
   "execution_count": 11,
   "metadata": {},
   "outputs": [
    {
     "name": "stdout",
     "output_type": "stream",
     "text": [
      "[('Cozy Cottage', 'lo', 'south', 2)]\n"
     ]
    }
   ],
   "source": [
    "# Create the dictionary of column names and values\n",
    "params = {\n",
    "    \"area\":\"south\",\n",
    "    \"price\":\"lo\"\n",
    "}\n",
    "\n",
    "# Find the hotels that match the parameters\n",
    "print(find_hotels(params))"
   ]
  },
  {
   "attachments": {},
   "cell_type": "markdown",
   "metadata": {},
   "source": [
    "## 3.3.7 Creating SQL from natural language\n",
    "\n",
    "No funciono paquete rasa"
   ]
  },
  {
   "cell_type": "code",
   "execution_count": 13,
   "metadata": {},
   "outputs": [],
   "source": [
    "# # Define respond()\n",
    "# def respond(message):\n",
    "#     # Extract the entities\n",
    "#     entities = interpreter.parse(message)[\"entities\"]\n",
    "#     # Initialize an empty params dictionary\n",
    "#     params = {}\n",
    "#     # Fill the dictionary with entities\n",
    "#     for ent in entities:\n",
    "#         params[ent[\"entity\"]] = str(ent[\"value\"])\n",
    "\n",
    "#     # Find hotels that match the dictionary\n",
    "#     results = find_hotels(params)\n",
    "#     # Get the names of the hotels and index of the response\n",
    "#     names = [r[0] for r in results]\n",
    "#     n = min(len(results),3)\n",
    "#     # Select the nth element of the responses array\n",
    "#     return responses[n].format(*names)\n",
    "\n",
    "# # Test the respond() function\n",
    "# print(respond(\"I want an expensive hotel in the south of town\"))"
   ]
  },
  {
   "attachments": {},
   "cell_type": "markdown",
   "metadata": {},
   "source": [
    "Respuesta:\n",
    "\n",
    "    - Grand Hotel is a great hotel!\n",
    "\n",
    "## 3.3.9 Refining your search"
   ]
  },
  {
   "cell_type": "code",
   "execution_count": null,
   "metadata": {},
   "outputs": [],
   "source": [
    "# # Define a respond function, taking the message and existing params as input\n",
    "# def respond(message, params):\n",
    "#     # Extract the entities\n",
    "#     entities = interpreter.parse(message)[\"entities\"]\n",
    "#     # Fill the dictionary with entities\n",
    "#     for ent in entities:\n",
    "#         params[ent[\"entity\"]] = str(ent[\"value\"])\n",
    "\n",
    "#     # Find the hotels\n",
    "#     results = find_hotels(params)\n",
    "#     names = [r[0] for r in results]\n",
    "#     n = min(len(results), 3)\n",
    "#     # Return the appropriate response\n",
    "#     return responses[n].format(*names), params\n",
    "\n",
    "# # Initialize params dictionary\n",
    "# params = {}\n",
    "\n",
    "# # Pass the messages to the bot\n",
    "# for message in [\"I want an expensive hotel\", \"in the north of town\"]:\n",
    "#     print(\"USER: {}\".format(message))\n",
    "#     response, params = respond(message, params)\n",
    "#     print(\"BOT: {}\".format(response))"
   ]
  },
  {
   "attachments": {},
   "cell_type": "markdown",
   "metadata": {},
   "source": [
    "Respuesta: \n",
    "\n",
    "    USER: I want an expensive hotel\n",
    "    BOT: Grand Hotel is one option, but I know others too :)\n",
    "    USER: in the north of town\n",
    "    BOT: Ben's BnB is a great hotel!\n",
    "\n",
    "## 3.3.10 Basic negation"
   ]
  },
  {
   "cell_type": "code",
   "execution_count": null,
   "metadata": {},
   "outputs": [],
   "source": [
    "# # Define negated_ents()\n",
    "# def negated_ents(phrase):\n",
    "#     # Extract the entities using keyword matching\n",
    "#     ents = [e for e in [\"south\", \"north\"] if e in phrase]\n",
    "#     # Find the index of the final character of each entity\n",
    "#     ends = sorted([phrase.index(e) + len(e) for e in ents])\n",
    "#     # Initialise a list to store sentence chunks\n",
    "#     chunks = []\n",
    "#     # Take slices of the sentence up to and including each entitiy\n",
    "#     start = 0\n",
    "#     for end in ends:\n",
    "#         chunks.append(phrase[start:end])\n",
    "#         start = end\n",
    "#     result = {}\n",
    "#     # Iterate over the chunks and look for entities\n",
    "#     for chunk in chunks:\n",
    "#         for ent in ents:\n",
    "#             if ent in chunk:\n",
    "#                 # If the entity contains a negation, assign the key to be False\n",
    "#                 if \"not\" in chunk or \"n't\" in chunk:\n",
    "#                     result[ent] = False\n",
    "#                 else:\n",
    "#                     result[ent] = True\n",
    "#     return result  \n",
    "\n",
    "# # Check that the entities are correctly assigned as True or False\n",
    "# for test in tests:\n",
    "#     print(negated_ents(test[0]) == test[1])"
   ]
  },
  {
   "attachments": {},
   "cell_type": "markdown",
   "metadata": {},
   "source": [
    "Respuesta:\n",
    "\n",
    "    True\n",
    "    True\n",
    "    True\n",
    "    True\n",
    "\n",
    " \n",
    "## 3.3.11 Filtering with excluded slots"
   ]
  },
  {
   "cell_type": "code",
   "execution_count": null,
   "metadata": {},
   "outputs": [],
   "source": [
    "# Define the respond function\n",
    "def respond(message, params, neg_params):\n",
    "    # Extract the entities\n",
    "    entities = interpreter.parse(message)[\"entities\"]\n",
    "    ent_vals = [e[\"value\"] for e in entities]\n",
    "    # Look for negated entities\n",
    "    negated = negated_ents(message, ent_vals)\n",
    "    for ent in entities:\n",
    "        if ent[\"value\"] in negated and negated[ent[\"value\"]]:\n",
    "            neg_params[ent[\"entity\"]] = str(ent[\"value\"])\n",
    "        else:\n",
    "            params[ent[\"entity\"]] = str(ent[\"value\"])\n",
    "    # Find the hotels\n",
    "    results = find_hotels(params, neg_params)\n",
    "    names = [r[0] for r in results]\n",
    "    n = min(len(results),3)\n",
    "    # Return the correct response\n",
    "    return responses[n].format(*names), params, neg_params\n",
    "\n",
    "# Initialize params and neg_params\n",
    "params = {}\n",
    "neg_params = {}\n",
    "\n",
    "# Pass the messages to the bot\n",
    "for message in [\"I want a cheap hotel\", \"but not in the north of town\"]:\n",
    "    print(\"USER: {}\".format(message))\n",
    "    response, params, neg_params = respond(message, params, neg_params)\n",
    "    print(\"BOT: {}\".format(response))"
   ]
  },
  {
   "attachments": {},
   "cell_type": "markdown",
   "metadata": {},
   "source": [
    "Respuesta:\n",
    "\n",
    "    USER: I want a cheap hotel\n",
    "    BOT: Cozy Cottage is a great hotel!\n",
    "    USER: but not in the north of town\n",
    "    BOT: I'm sorry :( I couldn't find anything like that"
   ]
  },
  {
   "cell_type": "code",
   "execution_count": 14,
   "metadata": {},
   "outputs": [
    {
     "name": "stdout",
     "output_type": "stream",
     "text": [
      "Ok_\n"
     ]
    }
   ],
   "source": [
    "print('Ok_')"
   ]
  }
 ],
 "metadata": {
  "kernelspec": {
   "display_name": "Python 3",
   "language": "python",
   "name": "python3"
  },
  "language_info": {
   "codemirror_mode": {
    "name": "ipython",
    "version": 3
   },
   "file_extension": ".py",
   "mimetype": "text/x-python",
   "name": "python",
   "nbconvert_exporter": "python",
   "pygments_lexer": "ipython3",
   "version": "3.11.3"
  },
  "orig_nbformat": 4
 },
 "nbformat": 4,
 "nbformat_minor": 2
}
