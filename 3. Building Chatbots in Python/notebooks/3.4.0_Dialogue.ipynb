{
 "cells": [
  {
   "attachments": {},
   "cell_type": "markdown",
   "metadata": {},
   "source": [
    "# 3.4.0_Dialogue"
   ]
  },
  {
   "cell_type": "code",
   "execution_count": 9,
   "metadata": {},
   "outputs": [],
   "source": [
    "%load_ext autoreload\n",
    "%autoreload 2"
   ]
  },
  {
   "cell_type": "code",
   "execution_count": 10,
   "metadata": {},
   "outputs": [],
   "source": [
    "import pandas as pd\n",
    "import numpy as np\n",
    "\n",
    "import sqlite3\n",
    "\n",
    "pd.set_option('display.max_columns', None)\n",
    "pd.set_option('display.max_rows', None)\n",
    "import warnings\n",
    "warnings.filterwarnings(\"ignore\")"
   ]
  },
  {
   "cell_type": "code",
   "execution_count": 11,
   "metadata": {},
   "outputs": [],
   "source": [
    "import sys\n",
    "sys.path.append(\"../\") \n",
    "\n",
    "from utils.paths import make_dir_line\n",
    "\n",
    "modality = 'c'\n",
    "project = 'Building Chatbots in Python'\n",
    "data = make_dir_line(modality, project)\n",
    "\n",
    "raw = data('raw')"
   ]
  },
  {
   "attachments": {},
   "cell_type": "markdown",
   "metadata": {},
   "source": [
    "## 3.4.2 Form filling\n",
    "\n",
    "No he construido la funcion send_message"
   ]
  },
  {
   "cell_type": "code",
   "execution_count": 12,
   "metadata": {},
   "outputs": [],
   "source": [
    "# # Define the INIT state\n",
    "# INIT = 0\n",
    "\n",
    "# # Define the CHOOSE_COFFEE state\n",
    "# CHOOSE_COFFEE = 1\n",
    "\n",
    "# # Define the ORDERED state\n",
    "# ORDERED = 2\n",
    "\n",
    "# # Define the policy rules\n",
    "# policy = {\n",
    "#     (INIT, \"order\"): (CHOOSE_COFFEE, \"ok, Colombian or Kenyan?\"),\n",
    "#     (INIT, \"none\"): (INIT, \"I'm sorry - I'm not sure how to help you\"),\n",
    "#     (CHOOSE_COFFEE, \"specify_coffee\"): (ORDERED, \"perfect, the beans are on their way!\"),\n",
    "#     (CHOOSE_COFFEE, \"none\"): (CHOOSE_COFFEE, \"I'm sorry - would you like Colombian or Kenyan?\"),\n",
    "# }\n",
    "\n",
    "# # Create the list of messages\n",
    "# messages = [\n",
    "#     \"I'd like to become a professional dancer\",\n",
    "#     \"well then I'd like to order some coffee\",\n",
    "#     \"my favourite animal is a zebra\",\n",
    "#     \"kenyan\"\n",
    "# ]\n",
    "\n",
    "# # Call send_message() for each message\n",
    "# state = INIT\n",
    "# for message in messages:    \n",
    "#     state = send_message(policy, state, message)"
   ]
  },
  {
   "attachments": {},
   "cell_type": "markdown",
   "metadata": {},
   "source": [
    "Respuesta:\n",
    "    USER : I'd like to become a professional dancer\n",
    "    BOT : I'm sorry - I'm not sure how to help you\n",
    "    USER : well then I'd like to order some coffee\n",
    "    BOT : ok, Colombian or Kenyan?\n",
    "    USER : my favourite animal is a zebra\n",
    "    BOT : I'm sorry - would you like Colombian or Kenyan?\n",
    "    USER : kenyan\n",
    "    BOT : perfect, the beans are on their way!\n",
    "\n",
    "## 3.4.3 Asking contextual questions"
   ]
  },
  {
   "cell_type": "code",
   "execution_count": null,
   "metadata": {},
   "outputs": [],
   "source": [
    "# # Define the states\n",
    "# INIT=0 \n",
    "# CHOOSE_COFFEE=1\n",
    "# ORDERED=2\n",
    "\n",
    "# # Define the policy rules dictionary\n",
    "# policy_rules = {\n",
    "#     (INIT, \"ask_explanation\"): (INIT, \"I'm a bot to help you order coffee beans\"),\n",
    "#     (INIT, \"order\"): (CHOOSE_COFFEE, \"ok, Colombian or Kenyan?\"),\n",
    "#     (CHOOSE_COFFEE, \"specify_coffee\"): (ORDERED, \"perfect, the beans are on their way!\"),\n",
    "#     (CHOOSE_COFFEE, \"ask_explanation\"): (CHOOSE_COFFEE, \"We have two kinds of coffee beans - the Kenyan ones make a slightly sweeter coffee, and cost $6. The Brazilian beans make a nutty coffee and cost $5.\")    \n",
    "# }\n",
    "\n",
    "# # Define send_messages()\n",
    "# def send_messages(messages):\n",
    "#     state = INIT\n",
    "#     for msg in messages:\n",
    "#         state = send_message(state, msg)\n",
    "\n",
    "# # Send the messages\n",
    "# send_messages([\n",
    "#     \"what can you do for me?\",\n",
    "#     \"well then I'd like to order some coffee\",\n",
    "#     \"what do you mean by that?\",\n",
    "#     \"kenyan\"\n",
    "# ])"
   ]
  },
  {
   "attachments": {},
   "cell_type": "markdown",
   "metadata": {},
   "source": [
    "Respuesta:\n",
    "\n",
    "    USER : what can you do for me?\n",
    "    BOT : I'm a bot to help you order coffee beans\n",
    "    USER : well then I'd like to order some coffee\n",
    "    BOT : ok, Colombian or Kenyan?\n",
    "    USER : what do you mean by that?\n",
    "    BOT : We have two kinds of coffee beans - the Kenyan ones make a slightly sweeter coffee, and cost $6. The Brazilian beans make a nutty coffee and cost $5.\n",
    "    USER : kenyan\n",
    "    BOT : perfect, the beans are on their way!\n",
    "\n",
    "## 3.4.4 Dealing with rejection"
   ]
  },
  {
   "cell_type": "code",
   "execution_count": null,
   "metadata": {},
   "outputs": [],
   "source": [
    "# Define find_hotels()\n",
    "def find_hotels(params):\n",
    "    # Create the base query\n",
    "    query = 'SELECT * FROM hotels'\n",
    "    # Add filter clauses for each of the parameters\n",
    "    if len(params) > 0:\n",
    "        filters = [\"{}=?\".format(k) for k in params]\n",
    "        query += \" WHERE \" + \" and \".join(filters)\n",
    "    # Create the tuple of values\n",
    "    t = tuple(params.values())\n",
    "    \n",
    "    # Open connection to DB\n",
    "    conn = sqlite3.connect(raw / 'hotels.db')\n",
    "    # Create a cursor\n",
    "    c = conn.cursor()\n",
    "    # Execute the query\n",
    "    c.execute(query, t)\n",
    "    # Return the results\n",
    "    return c.fetchall()"
   ]
  },
  {
   "cell_type": "code",
   "execution_count": null,
   "metadata": {},
   "outputs": [],
   "source": [
    "# # Define respond()\n",
    "# def respond(message, params, prev_suggestions, excluded):\n",
    "#     # Interpret the message\n",
    "#     parse_data = interpret(message)\n",
    "#     # Extract the intent\n",
    "#     intent = parse_data[\"intent\"][\"name\"]\n",
    "#     # Extract the entities\n",
    "#     entities = parse_data[\"entities\"]\n",
    "#     # Add the suggestion to the excluded list if intent is \"deny\"\n",
    "#     if intent == \"deny\":\n",
    "#         excluded.extend(prev_suggestions)\n",
    "#     # Fill the dictionary with entities\n",
    "#     for ent in entities:\n",
    "#         params[ent[\"entity\"]] = str(ent[\"value\"])\n",
    "#     # Find matching hotels\n",
    "#     results = [\n",
    "#         r \n",
    "#         for r in find_hotels(params, excluded) \n",
    "#         if r[0] not in excluded\n",
    "#     ]\n",
    "#     # Extract the suggestions\n",
    "#     names = [r[0] for r in results]\n",
    "#     n = min(len(results), 3)\n",
    "#     suggestions = names[:2]\n",
    "#     return responses[n].format(*names), params, suggestions, excluded\n",
    "\n",
    "# # Initialize the empty dictionary and lists\n",
    "# params, suggestions, excluded = {}, [], []\n",
    "\n",
    "# # Send the messages\n",
    "# for message in [\"I want a mid range hotel\", \"no that doesn't work for me\"]:\n",
    "#     print(\"USER: {}\".format(message))\n",
    "#     response, params, suggestions, excluded = respond(message, params, suggestions, excluded)\n",
    "#     print(\"BOT: {}\".format(response))"
   ]
  },
  {
   "attachments": {},
   "cell_type": "markdown",
   "metadata": {},
   "source": [
    "Respuestas:\n",
    "\n",
    "    USER: I want a mid range hotel\n",
    "    BOT: Hotel for Dogs is one option, but I know others too :)\n",
    "    USER: no that doesn't work for me\n",
    "    BOT: Grand Hotel is one option, but I know others too :)\n",
    "\n",
    "## 3.4.6 Pending actions I"
   ]
  },
  {
   "cell_type": "code",
   "execution_count": null,
   "metadata": {},
   "outputs": [],
   "source": [
    "# Define policy()\n",
    "def policy(intent):\n",
    "    # Return \"do_pending\" if the intent is \"affirm\"\n",
    "    if intent == \"affirm\":\n",
    "        return \"do_pending\", None\n",
    "    # Return \"Ok\" if the intent is \"deny\"\n",
    "    if intent == \"deny\":\n",
    "        return \"Ok\", None\n",
    "    if intent == \"order\":\n",
    "        return \"Unfortunately, the Kenyan coffee is currently out of stock, would you like to order the Brazilian beans?\", \"Alright, I've ordered that for you!\""
   ]
  },
  {
   "attachments": {},
   "cell_type": "markdown",
   "metadata": {},
   "source": [
    "## 3.4.7 Pending actions II"
   ]
  },
  {
   "cell_type": "code",
   "execution_count": null,
   "metadata": {},
   "outputs": [],
   "source": []
  },
  {
   "cell_type": "code",
   "execution_count": null,
   "metadata": {},
   "outputs": [],
   "source": []
  },
  {
   "cell_type": "code",
   "execution_count": null,
   "metadata": {},
   "outputs": [],
   "source": []
  },
  {
   "cell_type": "code",
   "execution_count": null,
   "metadata": {},
   "outputs": [],
   "source": []
  },
  {
   "cell_type": "code",
   "execution_count": null,
   "metadata": {},
   "outputs": [],
   "source": []
  },
  {
   "cell_type": "code",
   "execution_count": null,
   "metadata": {},
   "outputs": [],
   "source": []
  },
  {
   "cell_type": "code",
   "execution_count": null,
   "metadata": {},
   "outputs": [
    {
     "name": "stdout",
     "output_type": "stream",
     "text": [
      "Ok_\n"
     ]
    }
   ],
   "source": [
    "print('Ok_')"
   ]
  }
 ],
 "metadata": {
  "kernelspec": {
   "display_name": "Python 3",
   "language": "python",
   "name": "python3"
  },
  "language_info": {
   "codemirror_mode": {
    "name": "ipython",
    "version": 3
   },
   "file_extension": ".py",
   "mimetype": "text/x-python",
   "name": "python",
   "nbconvert_exporter": "python",
   "pygments_lexer": "ipython3",
   "version": "3.11.3"
  },
  "orig_nbformat": 4
 },
 "nbformat": 4,
 "nbformat_minor": 2
}
